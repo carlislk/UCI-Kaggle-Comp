{
 "cells": [
  {
   "cell_type": "code",
   "execution_count": 42,
   "metadata": {
    "collapsed": false
   },
   "outputs": [],
   "source": [
    "# Iris Data\n",
    "\n",
    "from sklearn.cross_validation import train_test_split\n",
    "from sklearn.ensemble import RandomForestClassifier\n",
    "from sklearn.metrics import roc_auc_score\n",
    "from sklearn.pipeline import Pipeline\n",
    "from sklearn.svm import OneClassSVM\n",
    "import sklearn.linear_model as lm\n",
    "import pandas as pd\n",
    "import numpy as np\n",
    "import matplotlib.pyplot as plt\n",
    "import csv\n",
    "\n",
    "import xgboost as xgb\n",
    "\n",
    "# Data Files\n",
    "\n",
    "# kaggle.X1.names - primary feature names, in csv format\n",
    "# kaggle.X1.train - primary feature values, training data set\n",
    "# kaggle.X2.train - raw IR3 local image patches, training data set\n",
    "# kaggle.Y.train - target values, training data set\n",
    "# kaggle.X1.test - primary feature values, test data set\n",
    "# kaggle.X2.test - raw IR3 local image patches, test data set\n",
    "\n",
    "# Setup From \n",
    "# https://www.kaggle.com/yuansun/santander-customer-satisfaction/lb-0-84-for-starters/code\n",
    "\n",
    "# from subprocess import check_output\n",
    "# print(check_output([\"ls\", \"../input\"]).decode(\"utf8\"))\n",
    "\n",
    "# Any results you write to the current directory are saved as output.\n",
    "\n",
    "\n",
    "# load data\n",
    "df_train_1 = pd.read_csv('./data/kaggle.X1.train.txt', header=None)\n",
    "df_train_2 = pd.read_csv('./data/kaggle.X2.train.txt', header=None)\n",
    "df_train_Y = pd.read_csv('./data/kaggle.Y.train.txt', header=None)\n",
    "df_test_1 = pd.read_csv('./data/kaggle.X1.test.txt', header=None)\n",
    "df_test_2 = pd.read_csv('./data/kaggle.X1.test.txt', header=None)\n",
    "\n",
    "\n",
    "# # remove constant columns\n",
    "# remove = []\n",
    "# for col in df_train.columns:\n",
    "#     if df_train[col].std() == 0:\n",
    "#         remove.append(col)\n",
    "\n",
    "# df_train.drop(remove, axis=1, inplace=True)\n",
    "# df_test.drop(remove, axis=1, inplace=True)\n",
    "\n",
    "# # remove duplicated columns\n",
    "# remove = []\n",
    "# c = df_train.columns\n",
    "# for i in range(len(c)-1):\n",
    "#     v = df_train[c[i]].values\n",
    "#     for j in range(i+1,len(c)):\n",
    "#         if np.array_equal(v,df_train[c[j]].values):\n",
    "#             remove.append(c[j])\n",
    "\n",
    "# df_train.drop(remove, axis=1, inplace=True)\n",
    "# df_test.drop(remove, axis=1, inplace=True)\n",
    "\n",
    "# y_train = df_train['TARGET'].values\n",
    "# X_train = df_train.drop(['ID','TARGET'], axis=1).values\n",
    "\n",
    "# id_test = df_test['ID']\n",
    "# X_test = df_test.drop(['ID'], axis=1).values\n",
    "\n",
    "# # length of dataset\n",
    "# len_train = len(X_train)\n",
    "# len_test  = len(X_test)\n",
    "\n",
    "# # classifier\n",
    "# clf = xgb.XGBClassifier(missing=np.nan, max_depth=5, n_estimators=350, learning_rate=0.03, nthread=4, subsample=0.95, colsample_bytree=0.85, seed=4242)\n",
    "\n",
    "# X_fit, X_eval, y_fit, y_eval= train_test_split(X_train, y_train, test_size=0.3)\n",
    "\n",
    "# # fitting\n",
    "# clf.fit(X_train, y_train, early_stopping_rounds=20, eval_metric=\"auc\", eval_set=[(X_eval, y_eval)])\n",
    "\n",
    "# print('Overall AUC:', roc_auc_score(y_train, clf.predict_proba(X_train)[:,1]))\n",
    "\n",
    "# # predicting\n",
    "# y_pred= clf.predict_proba(X_test)[:,1]\n",
    "\n",
    "# submission = pd.DataFrame({\"ID\":id_test, \"TARGET\":y_pred})\n",
    "# submission.to_csv(\"submission.csv\", index=False)\n",
    "\n",
    "# print('Completed!')\n",
    "\n",
    "\n"
   ]
  },
  {
   "cell_type": "code",
   "execution_count": 47,
   "metadata": {
    "collapsed": false
   },
   "outputs": [
    {
     "name": "stderr",
     "output_type": "stream",
     "text": [
      "Will train until validation_0 error hasn't decreased in 20 rounds.\n",
      "[0]\tvalidation_0-rmse:0.840449\n"
     ]
    },
    {
     "name": "stdout",
     "output_type": "stream",
     "text": [
      "i: 4\tj: 1\tk: 3e-05\n",
      "Avg Distance: 1\n",
      "\tmax_depth: 0\n",
      "\tn_estimators: 0\n",
      "\tlearning_rate: 0"
     ]
    },
    {
     "name": "stderr",
     "output_type": "stream",
     "text": [
      "Will train until validation_0 error hasn't decreased in 20 rounds.\n",
      "[0]\tvalidation_0-rmse:0.840367\n"
     ]
    },
    {
     "name": "stdout",
     "output_type": "stream",
     "text": [
      "\n",
      "i: 4\tj: 1\tk: 0.0003\n",
      "Avg Distance: 0.00954530277681\n",
      "\tmax_depth: 4\n",
      "\tn_estimators: 1\n",
      "\tlearning_rate: 3e-05"
     ]
    },
    {
     "name": "stderr",
     "output_type": "stream",
     "text": [
      "Will train until validation_0 error hasn't decreased in 20 rounds.\n",
      "[0]\tvalidation_0-rmse:0.839542\n"
     ]
    },
    {
     "name": "stdout",
     "output_type": "stream",
     "text": [
      "\n",
      "i: 4\tj: 1\tk: 0.003\n",
      "Avg Distance: 0.00954530277681\n",
      "\tmax_depth: 4\n",
      "\tn_estimators: 1\n",
      "\tlearning_rate: 3e-05"
     ]
    },
    {
     "name": "stderr",
     "output_type": "stream",
     "text": [
      "Will train until validation_0 error hasn't decreased in 20 rounds.\n",
      "[0]\tvalidation_0-rmse:0.831364\n"
     ]
    },
    {
     "name": "stdout",
     "output_type": "stream",
     "text": [
      "\n",
      "i: 4\tj: 1\tk: 0.03\n",
      "Avg Distance: 0.00954530277681\n",
      "\tmax_depth: 4\n",
      "\tn_estimators: 1\n",
      "\tlearning_rate: 3e-05"
     ]
    },
    {
     "name": "stderr",
     "output_type": "stream",
     "text": [
      "Will train until validation_0 error hasn't decreased in 20 rounds.\n",
      "[0]\tvalidation_0-rmse:0.758433\n"
     ]
    },
    {
     "name": "stdout",
     "output_type": "stream",
     "text": [
      "\n",
      "i: 4\tj: 1\tk: 0.3\n",
      "Avg Distance: 0.00954530277681\n",
      "\tmax_depth: 4\n",
      "\tn_estimators: 1\n",
      "\tlearning_rate: 3e-05"
     ]
    },
    {
     "name": "stderr",
     "output_type": "stream",
     "text": [
      "Will train until validation_0 error hasn't decreased in 20 rounds.\n",
      "[0]\tvalidation_0-rmse:0.840450\n"
     ]
    },
    {
     "name": "stdout",
     "output_type": "stream",
     "text": [
      "\n",
      "i: 4\tj: 2\tk: 3e-05\n",
      "Avg Distance: 0.00954530277681\n",
      "\tmax_depth: 4\n",
      "\tn_estimators: 1\n",
      "\tlearning_rate: 3e-05"
     ]
    },
    {
     "name": "stderr",
     "output_type": "stream",
     "text": [
      "[1]\tvalidation_0-rmse:0.840441\n",
      "Will train until validation_0 error hasn't decreased in 20 rounds.\n",
      "[0]\tvalidation_0-rmse:0.840367\n",
      "[1]\tvalidation_0-rmse:0.840274\n"
     ]
    },
    {
     "name": "stdout",
     "output_type": "stream",
     "text": [
      "\n",
      "i: 4\tj: 2\tk: 0.0003\n",
      "Avg Distance: 0.00954530277681\n",
      "\tmax_depth: 4\n",
      "\tn_estimators: 1\n",
      "\tlearning_rate: 3e-05"
     ]
    },
    {
     "name": "stderr",
     "output_type": "stream",
     "text": [
      "Will train until validation_0 error hasn't decreased in 20 rounds.\n",
      "[0]\tvalidation_0-rmse:0.839542\n"
     ]
    },
    {
     "name": "stdout",
     "output_type": "stream",
     "text": [
      "\n",
      "i: 4\tj: 2\tk: 0.003\n",
      "Avg Distance: 0.00954530277681\n",
      "\tmax_depth: 4\n",
      "\tn_estimators: 1\n",
      "\tlearning_rate: 3e-05"
     ]
    },
    {
     "name": "stderr",
     "output_type": "stream",
     "text": [
      "[1]\tvalidation_0-rmse:0.838627\n",
      "Will train until validation_0 error hasn't decreased in 20 rounds.\n",
      "[0]\tvalidation_0-rmse:0.831295\n",
      "[1]\tvalidation_0-rmse:0.822627\n"
     ]
    },
    {
     "name": "stdout",
     "output_type": "stream",
     "text": [
      "\n",
      "i: 4\tj: 2\tk: 0.03\n",
      "Avg Distance: 0.00954530277681\n",
      "\tmax_depth: 4\n",
      "\tn_estimators: 1\n",
      "\tlearning_rate: 3e-05"
     ]
    },
    {
     "name": "stderr",
     "output_type": "stream",
     "text": [
      "Will train until validation_0 error hasn't decreased in 20 rounds.\n",
      "[0]\tvalidation_0-rmse:0.758433\n"
     ]
    },
    {
     "name": "stdout",
     "output_type": "stream",
     "text": [
      "\n",
      "i: 4\tj: 2\tk: 0.3\n",
      "Avg Distance: 0.00954530277681\n",
      "\tmax_depth: 4\n",
      "\tn_estimators: 1\n",
      "\tlearning_rate: 3e-05"
     ]
    },
    {
     "name": "stderr",
     "output_type": "stream",
     "text": [
      "[1]\tvalidation_0-rmse:0.709691\n",
      "Will train until validation_0 error hasn't decreased in 20 rounds.\n",
      "[0]\tvalidation_0-rmse:0.840450\n",
      "[1]\tvalidation_0-rmse:0.840441\n"
     ]
    },
    {
     "name": "stdout",
     "output_type": "stream",
     "text": [
      "\n",
      "i: 4\tj: 3\tk: 3e-05\n",
      "Avg Distance: 0.00954530277681\n",
      "\tmax_depth: 4\n",
      "\tn_estimators: 1\n",
      "\tlearning_rate: 3e-05"
     ]
    },
    {
     "name": "stderr",
     "output_type": "stream",
     "text": [
      "[2]\tvalidation_0-rmse:0.840430\n",
      "Will train until validation_0 error hasn't decreased in 20 rounds.\n",
      "[0]\tvalidation_0-rmse:0.840368\n",
      "[1]\tvalidation_0-rmse:0.840278\n"
     ]
    },
    {
     "name": "stdout",
     "output_type": "stream",
     "text": [
      "\n",
      "i: 4\tj: 3\tk: 0.0003\n",
      "Avg Distance: 0.00954530277681\n",
      "\tmax_depth: 4\n",
      "\tn_estimators: 1\n",
      "\tlearning_rate: 3e-05"
     ]
    },
    {
     "name": "stderr",
     "output_type": "stream",
     "text": [
      "[2]\tvalidation_0-rmse:0.840187\n",
      "Will train until validation_0 error hasn't decreased in 20 rounds.\n",
      "[0]\tvalidation_0-rmse:0.839565\n",
      "[1]\tvalidation_0-rmse:0.838650\n"
     ]
    },
    {
     "name": "stdout",
     "output_type": "stream",
     "text": [
      "\n",
      "i: 4\tj: 3\tk: 0.003\n",
      "Avg Distance: 0.00954530277681\n",
      "\tmax_depth: 4\n",
      "\tn_estimators: 1\n",
      "\tlearning_rate: 3e-05"
     ]
    },
    {
     "name": "stderr",
     "output_type": "stream",
     "text": [
      "[2]\tvalidation_0-rmse:0.837750\n",
      "Will train until validation_0 error hasn't decreased in 20 rounds.\n",
      "[0]\tvalidation_0-rmse:0.831344\n",
      "[1]\tvalidation_0-rmse:0.822737\n"
     ]
    },
    {
     "name": "stdout",
     "output_type": "stream",
     "text": [
      "\n",
      "i: 4\tj: 3\tk: 0.03\n",
      "Avg Distance: 0.00954530277681\n",
      "\tmax_depth: 4\n",
      "\tn_estimators: 1\n",
      "\tlearning_rate: 3e-05"
     ]
    },
    {
     "name": "stderr",
     "output_type": "stream",
     "text": [
      "[2]\tvalidation_0-rmse:0.814569\n",
      "Will train until validation_0 error hasn't decreased in 20 rounds.\n",
      "[0]\tvalidation_0-rmse:0.758178\n",
      "[1]\tvalidation_0-rmse:0.708810\n"
     ]
    },
    {
     "name": "stdout",
     "output_type": "stream",
     "text": [
      "\n",
      "i: 4\tj: 3\tk: 0.3\n",
      "Avg Distance: 0.00954530277681\n",
      "\tmax_depth: 4\n",
      "\tn_estimators: 1\n",
      "\tlearning_rate: 3e-05"
     ]
    },
    {
     "name": "stderr",
     "output_type": "stream",
     "text": [
      "[2]\tvalidation_0-rmse:0.680345\n",
      "Will train until validation_0 error hasn't decreased in 20 rounds.\n",
      "[0]\tvalidation_0-rmse:0.840450\n",
      "[1]\tvalidation_0-rmse:0.840441\n",
      "[2]\tvalidation_0-rmse:0.840430\n",
      "[3]\tvalidation_0-rmse:0.840421\n"
     ]
    },
    {
     "name": "stdout",
     "output_type": "stream",
     "text": [
      "\n",
      "i: 4\tj: 4\tk: 3e-05\n",
      "Avg Distance: 0.00954530277681\n",
      "\tmax_depth: 4\n",
      "\tn_estimators: 1\n",
      "\tlearning_rate: 3e-05"
     ]
    },
    {
     "name": "stderr",
     "output_type": "stream",
     "text": [
      "Will train until validation_0 error hasn't decreased in 20 rounds.\n",
      "[0]\tvalidation_0-rmse:0.840367\n",
      "[1]\tvalidation_0-rmse:0.840276\n",
      "[2]\tvalidation_0-rmse:0.840185\n"
     ]
    },
    {
     "name": "stdout",
     "output_type": "stream",
     "text": [
      "\n",
      "i: 4\tj: 4\tk: 0.0003\n",
      "Avg Distance: 0.00954530277681\n",
      "\tmax_depth: 4\n",
      "\tn_estimators: 1\n",
      "\tlearning_rate: 3e-05"
     ]
    },
    {
     "name": "stderr",
     "output_type": "stream",
     "text": [
      "[3]\tvalidation_0-rmse:0.840096\n",
      "Will train until validation_0 error hasn't decreased in 20 rounds.\n",
      "[0]\tvalidation_0-rmse:0.839575\n",
      "[1]\tvalidation_0-rmse:0.838663\n",
      "[2]\tvalidation_0-rmse:0.837761\n",
      "[3]\tvalidation_0-rmse:0.836862\n"
     ]
    },
    {
     "name": "stdout",
     "output_type": "stream",
     "text": [
      "\n",
      "i: 4\tj: 4\tk: 0.003\n",
      "Avg Distance: 0.00954530277681\n",
      "\tmax_depth: 4\n",
      "\tn_estimators: 1\n",
      "\tlearning_rate: 3e-05"
     ]
    },
    {
     "name": "stderr",
     "output_type": "stream",
     "text": [
      "Will train until validation_0 error hasn't decreased in 20 rounds.\n",
      "[0]\tvalidation_0-rmse:0.831364\n",
      "[1]\tvalidation_0-rmse:0.822863\n",
      "[2]\tvalidation_0-rmse:0.814579\n"
     ]
    },
    {
     "name": "stdout",
     "output_type": "stream",
     "text": [
      "\n",
      "i: 4\tj: 4\tk: 0.03\n",
      "Avg Distance: 0.00954530277681\n",
      "\tmax_depth: 4\n",
      "\tn_estimators: 1\n",
      "\tlearning_rate: 3e-05"
     ]
    },
    {
     "name": "stderr",
     "output_type": "stream",
     "text": [
      "[3]\tvalidation_0-rmse:0.806739\n",
      "Will train until validation_0 error hasn't decreased in 20 rounds.\n",
      "[0]\tvalidation_0-rmse:0.758178\n",
      "[1]\tvalidation_0-rmse:0.708810\n",
      "[2]\tvalidation_0-rmse:0.678244\n",
      "[3]\tvalidation_0-rmse:0.660535\n"
     ]
    },
    {
     "name": "stdout",
     "output_type": "stream",
     "text": [
      "\n",
      "i: 4\tj: 4\tk: 0.3\n",
      "Avg Distance: 0.00954530277681\n",
      "\tmax_depth: 4\n",
      "\tn_estimators: 1\n",
      "\tlearning_rate: 3e-05"
     ]
    },
    {
     "name": "stderr",
     "output_type": "stream",
     "text": [
      "Will train until validation_0 error hasn't decreased in 20 rounds.\n",
      "[0]\tvalidation_0-rmse:0.840449\n",
      "[1]\tvalidation_0-rmse:0.840441\n",
      "[2]\tvalidation_0-rmse:0.840431\n",
      "[3]\tvalidation_0-rmse:0.840422\n",
      "[4]\tvalidation_0-rmse:0.840412\n"
     ]
    },
    {
     "name": "stdout",
     "output_type": "stream",
     "text": [
      "\n",
      "i: 4\tj: 5\tk: 3e-05\n",
      "Avg Distance: 0.00954530277681\n",
      "\tmax_depth: 4\n",
      "\tn_estimators: 1\n",
      "\tlearning_rate: 3e-05\n",
      "i: 4\tj: 5\tk: 0.0003\n"
     ]
    },
    {
     "name": "stderr",
     "output_type": "stream",
     "text": [
      "Will train until validation_0 error hasn't decreased in 20 rounds.\n"
     ]
    },
    {
     "ename": "KeyboardInterrupt",
     "evalue": "",
     "output_type": "error",
     "traceback": [
      "\u001b[1;31m---------------------------------------------------------------------------\u001b[0m",
      "\u001b[1;31mKeyboardInterrupt\u001b[0m                         Traceback (most recent call last)",
      "\u001b[1;32m<ipython-input-47-0d209be3c4ec>\u001b[0m in \u001b[0;36m<module>\u001b[1;34m()\u001b[0m\n\u001b[0;32m     23\u001b[0m             \u001b[1;32mprint\u001b[0m\u001b[1;33m(\u001b[0m\u001b[1;34m\"i: {0}\\tj: {1}\\tk: {2}\"\u001b[0m\u001b[1;33m.\u001b[0m\u001b[0mformat\u001b[0m\u001b[1;33m(\u001b[0m\u001b[0mi\u001b[0m\u001b[1;33m,\u001b[0m \u001b[0mj\u001b[0m\u001b[1;33m,\u001b[0m \u001b[0mk\u001b[0m\u001b[1;33m)\u001b[0m\u001b[1;33m)\u001b[0m\u001b[1;33m\u001b[0m\u001b[0m\n\u001b[0;32m     24\u001b[0m             \u001b[0mclf\u001b[0m \u001b[1;33m=\u001b[0m \u001b[0mxgb\u001b[0m\u001b[1;33m.\u001b[0m\u001b[0mXGBRegressor\u001b[0m\u001b[1;33m(\u001b[0m\u001b[0mmissing\u001b[0m\u001b[1;33m=\u001b[0m\u001b[0mnp\u001b[0m\u001b[1;33m.\u001b[0m\u001b[0mnan\u001b[0m\u001b[1;33m,\u001b[0m \u001b[0mmax_depth\u001b[0m\u001b[1;33m=\u001b[0m\u001b[0mi\u001b[0m\u001b[1;33m,\u001b[0m \u001b[0mn_estimators\u001b[0m\u001b[1;33m=\u001b[0m\u001b[0mj\u001b[0m\u001b[1;33m,\u001b[0m \u001b[0mlearning_rate\u001b[0m\u001b[1;33m=\u001b[0m\u001b[0mk\u001b[0m\u001b[1;33m,\u001b[0m \u001b[0mnthread\u001b[0m\u001b[1;33m=\u001b[0m\u001b[1;36m12\u001b[0m\u001b[1;33m,\u001b[0m \u001b[0msubsample\u001b[0m\u001b[1;33m=\u001b[0m\u001b[1;36m0.9\u001b[0m\u001b[1;33m,\u001b[0m \u001b[0mcolsample_bytree\u001b[0m\u001b[1;33m=\u001b[0m\u001b[1;36m0.85\u001b[0m\u001b[1;33m,\u001b[0m \u001b[0mseed\u001b[0m\u001b[1;33m=\u001b[0m\u001b[1;36m4242\u001b[0m\u001b[1;33m)\u001b[0m\u001b[1;33m\u001b[0m\u001b[0m\n\u001b[1;32m---> 25\u001b[1;33m             \u001b[0mclf\u001b[0m\u001b[1;33m.\u001b[0m\u001b[0mfit\u001b[0m\u001b[1;33m(\u001b[0m\u001b[0mX_train\u001b[0m\u001b[1;33m,\u001b[0m \u001b[0my_train\u001b[0m\u001b[1;33m,\u001b[0m \u001b[0mearly_stopping_rounds\u001b[0m\u001b[1;33m=\u001b[0m\u001b[1;36m20\u001b[0m\u001b[1;33m,\u001b[0m \u001b[0meval_metric\u001b[0m\u001b[1;33m=\u001b[0m\u001b[1;34m\"rmse\"\u001b[0m\u001b[1;33m,\u001b[0m \u001b[0meval_set\u001b[0m\u001b[1;33m=\u001b[0m\u001b[1;33m[\u001b[0m\u001b[1;33m(\u001b[0m\u001b[0mX_eval\u001b[0m\u001b[1;33m,\u001b[0m \u001b[0my_eval\u001b[0m\u001b[1;33m)\u001b[0m\u001b[1;33m]\u001b[0m\u001b[1;33m)\u001b[0m\u001b[1;33m\u001b[0m\u001b[0m\n\u001b[0m\u001b[0;32m     26\u001b[0m             \u001b[0mavg_dist\u001b[0m \u001b[1;33m=\u001b[0m \u001b[0mnp\u001b[0m\u001b[1;33m.\u001b[0m\u001b[0maverage\u001b[0m\u001b[1;33m(\u001b[0m\u001b[0my_train\u001b[0m\u001b[1;33m)\u001b[0m\u001b[1;33m-\u001b[0m\u001b[0mnp\u001b[0m\u001b[1;33m.\u001b[0m\u001b[0maverage\u001b[0m\u001b[1;33m(\u001b[0m\u001b[0my_pred\u001b[0m\u001b[1;33m)\u001b[0m\u001b[1;33m\u001b[0m\u001b[0m\n\u001b[0;32m     27\u001b[0m             \u001b[1;32mprint\u001b[0m\u001b[1;33m(\u001b[0m\u001b[1;34m\"Avg Distance: {0}\\n\\tmax_depth: {1}\\n\\tn_estimators: {2}\\n\\tlearning_rate: {3}\"\u001b[0m\u001b[1;33m.\u001b[0m\u001b[0mformat\u001b[0m\u001b[1;33m(\u001b[0m\u001b[0mbest_avg_dist\u001b[0m\u001b[1;33m,\u001b[0m \u001b[0mmax_depth_val\u001b[0m\u001b[1;33m,\u001b[0m \u001b[0mn_estimators_val\u001b[0m\u001b[1;33m,\u001b[0m \u001b[0mlearning_rate_val\u001b[0m\u001b[1;33m)\u001b[0m\u001b[1;33m)\u001b[0m\u001b[1;33m\u001b[0m\u001b[0m\n",
      "\u001b[1;32m/usr/local/lib/python2.7/dist-packages/xgboost-0.4a30-py2.7.egg/xgboost/sklearn.pyc\u001b[0m in \u001b[0;36mfit\u001b[1;34m(self, X, y, eval_set, eval_metric, early_stopping_rounds, verbose)\u001b[0m\n\u001b[0;32m    186\u001b[0m                               \u001b[0mearly_stopping_rounds\u001b[0m\u001b[1;33m=\u001b[0m\u001b[0mearly_stopping_rounds\u001b[0m\u001b[1;33m,\u001b[0m\u001b[1;33m\u001b[0m\u001b[0m\n\u001b[0;32m    187\u001b[0m                               \u001b[0mevals_result\u001b[0m\u001b[1;33m=\u001b[0m\u001b[0mevals_result\u001b[0m\u001b[1;33m,\u001b[0m \u001b[0mfeval\u001b[0m\u001b[1;33m=\u001b[0m\u001b[0mfeval\u001b[0m\u001b[1;33m,\u001b[0m\u001b[1;33m\u001b[0m\u001b[0m\n\u001b[1;32m--> 188\u001b[1;33m                               verbose_eval=verbose)\n\u001b[0m\u001b[0;32m    189\u001b[0m \u001b[1;33m\u001b[0m\u001b[0m\n\u001b[0;32m    190\u001b[0m         \u001b[1;32mif\u001b[0m \u001b[0mevals_result\u001b[0m\u001b[1;33m:\u001b[0m\u001b[1;33m\u001b[0m\u001b[0m\n",
      "\u001b[1;32m/usr/local/lib/python2.7/dist-packages/xgboost-0.4a30-py2.7.egg/xgboost/training.pyc\u001b[0m in \u001b[0;36mtrain\u001b[1;34m(params, dtrain, num_boost_round, evals, obj, feval, maximize, early_stopping_rounds, evals_result, verbose_eval, learning_rates, xgb_model)\u001b[0m\n\u001b[0;32m    196\u001b[0m                 \u001b[1;32melse\u001b[0m\u001b[1;33m:\u001b[0m\u001b[1;33m\u001b[0m\u001b[0m\n\u001b[0;32m    197\u001b[0m                     \u001b[0mbst\u001b[0m\u001b[1;33m.\u001b[0m\u001b[0mset_param\u001b[0m\u001b[1;33m(\u001b[0m\u001b[1;33m{\u001b[0m\u001b[1;34m'eta'\u001b[0m\u001b[1;33m:\u001b[0m \u001b[0mlearning_rates\u001b[0m\u001b[1;33m(\u001b[0m\u001b[0mi\u001b[0m\u001b[1;33m,\u001b[0m \u001b[0mnum_boost_round\u001b[0m\u001b[1;33m)\u001b[0m\u001b[1;33m}\u001b[0m\u001b[1;33m)\u001b[0m\u001b[1;33m\u001b[0m\u001b[0m\n\u001b[1;32m--> 198\u001b[1;33m             \u001b[0mbst\u001b[0m\u001b[1;33m.\u001b[0m\u001b[0mupdate\u001b[0m\u001b[1;33m(\u001b[0m\u001b[0mdtrain\u001b[0m\u001b[1;33m,\u001b[0m \u001b[0mi\u001b[0m\u001b[1;33m,\u001b[0m \u001b[0mobj\u001b[0m\u001b[1;33m)\u001b[0m\u001b[1;33m\u001b[0m\u001b[0m\n\u001b[0m\u001b[0;32m    199\u001b[0m             \u001b[0mnboost\u001b[0m \u001b[1;33m+=\u001b[0m \u001b[1;36m1\u001b[0m\u001b[1;33m\u001b[0m\u001b[0m\n\u001b[0;32m    200\u001b[0m             \u001b[0mbst_eval_set\u001b[0m \u001b[1;33m=\u001b[0m \u001b[0mbst\u001b[0m\u001b[1;33m.\u001b[0m\u001b[0meval_set\u001b[0m\u001b[1;33m(\u001b[0m\u001b[0mevals\u001b[0m\u001b[1;33m,\u001b[0m \u001b[0mi\u001b[0m\u001b[1;33m,\u001b[0m \u001b[0mfeval\u001b[0m\u001b[1;33m)\u001b[0m\u001b[1;33m\u001b[0m\u001b[0m\n",
      "\u001b[1;32m/usr/local/lib/python2.7/dist-packages/xgboost-0.4a30-py2.7.egg/xgboost/core.pyc\u001b[0m in \u001b[0;36mupdate\u001b[1;34m(self, dtrain, iteration, fobj)\u001b[0m\n\u001b[0;32m    692\u001b[0m \u001b[1;33m\u001b[0m\u001b[0m\n\u001b[0;32m    693\u001b[0m         \u001b[1;32mif\u001b[0m \u001b[0mfobj\u001b[0m \u001b[1;32mis\u001b[0m \u001b[0mNone\u001b[0m\u001b[1;33m:\u001b[0m\u001b[1;33m\u001b[0m\u001b[0m\n\u001b[1;32m--> 694\u001b[1;33m             \u001b[0m_check_call\u001b[0m\u001b[1;33m(\u001b[0m\u001b[0m_LIB\u001b[0m\u001b[1;33m.\u001b[0m\u001b[0mXGBoosterUpdateOneIter\u001b[0m\u001b[1;33m(\u001b[0m\u001b[0mself\u001b[0m\u001b[1;33m.\u001b[0m\u001b[0mhandle\u001b[0m\u001b[1;33m,\u001b[0m \u001b[0miteration\u001b[0m\u001b[1;33m,\u001b[0m \u001b[0mdtrain\u001b[0m\u001b[1;33m.\u001b[0m\u001b[0mhandle\u001b[0m\u001b[1;33m)\u001b[0m\u001b[1;33m)\u001b[0m\u001b[1;33m\u001b[0m\u001b[0m\n\u001b[0m\u001b[0;32m    695\u001b[0m         \u001b[1;32melse\u001b[0m\u001b[1;33m:\u001b[0m\u001b[1;33m\u001b[0m\u001b[0m\n\u001b[0;32m    696\u001b[0m             \u001b[0mpred\u001b[0m \u001b[1;33m=\u001b[0m \u001b[0mself\u001b[0m\u001b[1;33m.\u001b[0m\u001b[0mpredict\u001b[0m\u001b[1;33m(\u001b[0m\u001b[0mdtrain\u001b[0m\u001b[1;33m)\u001b[0m\u001b[1;33m\u001b[0m\u001b[0m\n",
      "\u001b[1;31mKeyboardInterrupt\u001b[0m: "
     ]
    }
   ],
   "source": [
    "# Combine Train Data \n",
    "df_train_X = pd.concat([df_train_1, df_train_2], axis=1)\n",
    "\n",
    "# Combine Test Data \n",
    "df_test_X = pd.concat([df_test_1, df_test_2], axis=1)\n",
    "\n",
    "\n",
    "# Create Numpy Arrays\n",
    "X_train = df_train_X.values\n",
    "y_train = df_train_Y.values\n",
    "X_test = df_test_X.values\n",
    "\n",
    "X_fit, X_eval, y_fit, y_eval= train_test_split(X_train, y_train, test_size=0.3)\n",
    "\n",
    "# classifier\n",
    "best_avg_dist = 1\n",
    "max_depth_val = 0\n",
    "n_estimators_val = 0\n",
    "learning_rate_val = 0\n",
    "for i in range(4,8):\n",
    "    for j in range(1,350):\n",
    "        for k in [0.00003,0.0003,0.003,0.03,0.3]:\n",
    "            print(\"i: {0}\\tj: {1}\\tk: {2}\".format(i, j, k))\n",
    "            clf = xgb.XGBRegressor(missing=np.nan, max_depth=i, n_estimators=j, learning_rate=k, nthread=12, subsample=0.9, colsample_bytree=0.85, seed=4242)\n",
    "            clf.fit(X_train, y_train, early_stopping_rounds=20, eval_metric=\"rmse\", eval_set=[(X_eval, y_eval)])\n",
    "            avg_dist = np.average(y_train)-np.average(y_pred)\n",
    "            print(\"Avg Distance: {0}\".format(avg_dist))\n",
    "            if (avg_dist < best_avg_dist):\n",
    "                best_avg_dist = avg_dist\n",
    "                max_depth_val = i\n",
    "                n_estimators_val = j\n",
    "                learning_rate_val = k\n",
    "                \n",
    "\n",
    "#print('Overall AUC:', roc_auc_score(y_train, clf.predict_proba(X_train)[:,1]))\n",
    "\n",
    "clf = xgb.XGBRegressor(missing=np.nan, max_depth=max_depth_val, n_estimators=n_estimators_val, learning_rate=learning_rate_val, nthread=12, subsample=0.9, colsample_bytree=0.85, seed=4242)\n",
    "clf.fit(X_train, y_train, early_stopping_rounds=20, eval_metric=\"rmse\", eval_set=[(X_eval, y_eval)])\n",
    "\n",
    "# predicting\n",
    "y_pred= clf.predict(X_test)\n",
    "\n",
    "print(\"Shape of prediction\")\n",
    "print(df_test_1.shape)\n",
    "\n",
    "with open(\"prediction.csv\", \"wb\") as csvfile:\n",
    "    writer = csv.writer(csvfile)\n",
    "    writer.writerow([\"ID\", \"Prediction\"])\n",
    "    counter = 1\n",
    "    for item in y_pred:\n",
    "        writer.writerow([counter, item])\n",
    "        counter = counter + 1\n",
    "\n",
    "print('Completed!')\n",
    "\n",
    "print(\"Best Distance: {0}\\n\\tmax_depth: {1}\\n\\tn_estimators: {2}\\n\\tlearning_rate: {3}\".format(best_avg_dist, max_depth_val, n_estimators_val, learning_rate_val))\n",
    "\n"
   ]
  },
  {
   "cell_type": "code",
   "execution_count": 4,
   "metadata": {
    "collapsed": false
   },
   "outputs": [
    {
     "ename": "IndexError",
     "evalue": "invalid index to scalar variable.",
     "output_type": "error",
     "traceback": [
      "\u001b[1;31m---------------------------------------------------------------------------\u001b[0m",
      "\u001b[1;31mIndexError\u001b[0m                                Traceback (most recent call last)",
      "\u001b[1;32m<ipython-input-4-2cce20286333>\u001b[0m in \u001b[0;36m<module>\u001b[1;34m()\u001b[0m\n\u001b[0;32m     16\u001b[0m     \u001b[0mcounter\u001b[0m \u001b[1;33m=\u001b[0m \u001b[1;36m1\u001b[0m\u001b[1;33m\u001b[0m\u001b[0m\n\u001b[0;32m     17\u001b[0m     \u001b[1;32mfor\u001b[0m \u001b[0mitem\u001b[0m \u001b[1;32min\u001b[0m \u001b[0my_pred\u001b[0m\u001b[1;33m:\u001b[0m\u001b[1;33m\u001b[0m\u001b[0m\n\u001b[1;32m---> 18\u001b[1;33m         \u001b[0mwriter\u001b[0m\u001b[1;33m.\u001b[0m\u001b[0mwriterow\u001b[0m\u001b[1;33m(\u001b[0m\u001b[1;33m[\u001b[0m\u001b[0mcounter\u001b[0m\u001b[1;33m,\u001b[0m \u001b[0mitem\u001b[0m\u001b[1;33m[\u001b[0m\u001b[1;36m0\u001b[0m\u001b[1;33m]\u001b[0m\u001b[1;33m]\u001b[0m\u001b[1;33m)\u001b[0m\u001b[1;33m\u001b[0m\u001b[0m\n\u001b[0m\u001b[0;32m     19\u001b[0m         \u001b[0mcounter\u001b[0m \u001b[1;33m=\u001b[0m \u001b[0mcounter\u001b[0m \u001b[1;33m+\u001b[0m \u001b[1;36m1\u001b[0m\u001b[1;33m\u001b[0m\u001b[0m\n",
      "\u001b[1;31mIndexError\u001b[0m: invalid index to scalar variable."
     ]
    }
   ],
   "source": []
  },
  {
   "cell_type": "code",
   "execution_count": null,
   "metadata": {
    "collapsed": true
   },
   "outputs": [],
   "source": []
  }
 ],
 "metadata": {
  "kernelspec": {
   "display_name": "Python 2",
   "language": "python",
   "name": "python2"
  },
  "language_info": {
   "codemirror_mode": {
    "name": "ipython",
    "version": 2
   },
   "file_extension": ".py",
   "mimetype": "text/x-python",
   "name": "python",
   "nbconvert_exporter": "python",
   "pygments_lexer": "ipython2",
   "version": "2.7.6"
  }
 },
 "nbformat": 4,
 "nbformat_minor": 0
}
