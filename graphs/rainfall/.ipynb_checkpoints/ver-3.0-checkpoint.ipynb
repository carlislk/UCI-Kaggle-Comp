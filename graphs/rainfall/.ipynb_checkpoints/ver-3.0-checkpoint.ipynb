{
 "cells": [
  {
   "cell_type": "code",
   "execution_count": null,
   "metadata": {
    "collapsed": true
   },
   "outputs": [],
   "source": [
    "# Results\n",
    "\n",
    "# Both Feature Sets\n",
    "# [349]\tvalidation_0-rmse:0.544184\n",
    "# [160]\tvalidation_0-rmse:0.536579\n",
    "\n",
    "# Single Feature Set\n",
    "# [160]\tvalidation_0-rmse:0.561419\n",
    "\n",
    "# 9th place  max_depth=20, n_estimators=161, learning_rate=0.03, nthread=4, subsample=0.95, colsample_bytree=0.85, seed=4242 )\n",
    "#[160]\tvalidation_0-rmse:0.118262\n"
   ]
  },
  {
   "cell_type": "code",
   "execution_count": 1,
   "metadata": {
    "collapsed": false
   },
   "outputs": [
    {
     "name": "stdout",
     "output_type": "stream",
     "text": [
      "(60000, 532)\n",
      "(60000, 1)\n",
      "(40000, 532)\n"
     ]
    }
   ],
   "source": [
    "# Iris Data\n",
    "\n",
    "from sklearn.cross_validation import train_test_split\n",
    "from sklearn.ensemble import RandomForestClassifier\n",
    "from sklearn.metrics import roc_auc_score\n",
    "from sklearn.pipeline import Pipeline\n",
    "from sklearn.svm import OneClassSVM\n",
    "import sklearn.linear_model as lm\n",
    "import pandas as pd\n",
    "import numpy as np\n",
    "import matplotlib.pyplot as plt\n",
    "\n",
    "from sklearn.cross_validation import StratifiedKFold\n",
    "from sklearn.cross_validation import KFold\n",
    "from sklearn.cross_validation import StratifiedShuffleSplit\n",
    "from sklearn.cross_validation import cross_val_score\n",
    "from sklearn.cross_validation import cross_val_predict\n",
    "from sklearn.grid_search import GridSearchCV\n",
    "\n",
    "\n",
    "\n",
    "import xgboost as xgb\n",
    "\n",
    "# Data Files\n",
    "\n",
    "# load data\n",
    "df_train_1 = pd.read_csv('./data/kaggle.X1.train.txt', header=None)\n",
    "df_train_2 = pd.read_csv('./data/kaggle.X2.train.txt', header=None)\n",
    "df_train_Y = pd.read_csv('./data/kaggle.Y.train.txt', header=None)\n",
    "df_test_1 = pd.read_csv('./data/kaggle.X1.test.txt', header=None)\n",
    "df_test_2 = pd.read_csv('./data/kaggle.X2.test.txt', header=None)\n",
    "\n",
    "# Combine Train Data \n",
    "df_train_X = pd.concat([df_train_1, df_train_2], axis=1)\n",
    "\n",
    "# Combine Test Data \n",
    "df_test_X = pd.concat([df_test_1, df_test_2], axis=1)\n",
    "\n",
    "\n",
    "# Create Numpy Arrays\n",
    "X_train = df_train_X.values\n",
    "y_train = df_train_Y.values\n",
    "X_test = df_test_X.values\n",
    "\n",
    "# Use Only X1\n",
    "# X_train = df_train_1.values\n",
    "# X_test = df_test_1.values\n",
    "\n",
    "print(X_train.shape)\n",
    "print(y_train.shape)\n",
    "print(X_test.shape)\n"
   ]
  },
  {
   "cell_type": "code",
   "execution_count": null,
   "metadata": {
    "collapsed": false
   },
   "outputs": [
    {
     "name": "stdout",
     "output_type": "stream",
     "text": [
      "Fitting 3 folds for each of 1 candidates, totalling 3 fits\n",
      "[CV] reg_alpha=1, learning_rate=0.03, min_child_weight=7, n_estimators=90, reg_lambda=0, seed=2314, max_depth=10 \n",
      "[CV] reg_alpha=1, learning_rate=0.03, min_child_weight=7, n_estimators=90, reg_lambda=0, seed=2314, max_depth=10 \n",
      "[CV] reg_alpha=1, learning_rate=0.03, min_child_weight=7, n_estimators=90, reg_lambda=0, seed=2314, max_depth=10 \n"
     ]
    }
   ],
   "source": [
    "# Train Model\n",
    "\n",
    "\n",
    "# Split Data\n",
    "X_fit, X_eval, y_fit, y_eval= train_test_split(X_train, y_train, test_size=0.2)\n",
    "\n",
    "\n",
    "# Grid Search \n",
    "clf = xgb.XGBRegressor()  \n",
    "\n",
    "\n",
    "# clf_params = {\n",
    "#     'learning_rate' : [0.05,  0.03],\n",
    "#     'n_estimators' : [ 2000, 1000, 500],\n",
    "#     'max_depth' : [10, 7, 5],\n",
    "#     'subsample' : [0.90, 1, 0],\n",
    "#     'colsample_bytree' : [0.85, 1, 0.95],\n",
    "#     'reg_alpha' : [0, 0.7, 1], \n",
    "#     'reg_lambda' : [0, 0.7, 1], \n",
    "#     'seed' : [2314],\n",
    "# }\n",
    "\n",
    "clf_params = {\n",
    "    'learning_rate' : [ 0.03],\n",
    "    'n_estimators' : [ 90],\n",
    "    'max_depth' : [ 10 ],\n",
    "    'reg_alpha' : [1], \n",
    "    'reg_lambda' : [0], \n",
    "    'seed' : [2314],\n",
    "    'min_child_weight' : [7],\n",
    "    \n",
    "}\n",
    "\n",
    "cv = KFold(3)\n",
    "grid = GridSearchCV(clf, clf_params, cv=cv, n_jobs=-1,  scoring='mean_squared_error', verbose=10 )\n",
    "grid.fit(X_fit, y_fit)\n",
    "\n",
    "\n",
    "print\n",
    "print(\"Best Grid Params:\", grid.best_params_)\n",
    "print(\"Done!\")"
   ]
  },
  {
   "cell_type": "code",
   "execution_count": 4,
   "metadata": {
    "collapsed": false
   },
   "outputs": [
    {
     "name": "stdout",
     "output_type": "stream",
     "text": [
      "Parameters\n",
      "()\n",
      "-Grid-\n",
      "('Best Grid Params:', {'reg_alpha': 1, 'learning_rate': 0.03, 'n_estimators': 90, 'reg_lambda': 0, 'seed': 2314, 'max_depth': 10})\n",
      "()\n",
      "()\n",
      " -- Scores -- Full Train -- \n",
      "('Explained Variance Score: ', 0.72993533857751691)\n",
      "('Mean Absolute Error: ', 0.28150323706874758)\n",
      "('Mean Squared Error: ', 0.18817506544542306)\n",
      "('Median Absolute Error: ', 0.16879783570766449)\n",
      "('R2 Score: ', 0.7297603439177669)\n",
      "()\n",
      "()\n",
      " -- Scores -- Train Split -- \n",
      "('Explained Variance Score: ', 0.78947934690118404)\n",
      "('Mean Absolute Error: ', 0.2568651307967223)\n",
      "('Mean Squared Error: ', 0.1464156686361443)\n",
      "('Median Absolute Error: ', 0.16110472402858744)\n",
      "('R2 Score: ', 0.7893383087010043)\n",
      "()\n",
      "()\n",
      " -- Scores -- Test Split -- \n",
      "('Explained Variance Score: ', 0.49400046998635549)\n",
      "('Mean Absolute Error: ', 0.38005566215684866)\n",
      "('Mean Squared Error: ', 0.35521265268253788)\n",
      "('Median Absolute Error: ', 0.21392725300369267)\n",
      "('R2 Score: ', 0.49365398901110968)\n",
      "()\n"
     ]
    }
   ],
   "source": [
    "# Score From GRID\n",
    "\n",
    "from sklearn.metrics import explained_variance_score\n",
    "from sklearn.metrics import mean_absolute_error\n",
    "from sklearn.metrics import mean_squared_error\n",
    "from sklearn.metrics import median_absolute_error\n",
    "from sklearn.metrics import r2_score\n",
    "\n",
    "\n",
    "\n",
    "\n",
    "# Print Parameters\n",
    "print(\"Parameters\")\n",
    "print()\n",
    "print(\"-Grid-\")\n",
    "print(\"Best Grid Params:\", grid.best_params_)\n",
    "# print(\"Depth: \", depth)\n",
    "# print(\"estimator: \", estimator)\n",
    "# print(\"l_rate: \", l_rate)\n",
    "# print(\"sub_sample: \", sub_sample)\n",
    "# print(\"col_sample: \", col_sample)\n",
    "# print(\"seed: \", seed_val)\n",
    "# print(\"Alpha: \", alpha_val)\n",
    "#print(\"Lambda: \", lambda_val)\n",
    "# print(\"Num Rounds: \", n_round)\n",
    "# print(\"Verbose Val: \", verbose_val)\n",
    "print()\n",
    "print()\n",
    "\n",
    "\n",
    "# Score On Full Train Set\n",
    "# full_train_pred = clf.predict(X_train)\n",
    "full_train_pred = grid.best_estimator_.predict(X_train)\n",
    "print(\" -- Scores -- Full Train -- \")\n",
    "print(\"Explained Variance Score: \", explained_variance_score(y_train, full_train_pred ))\n",
    "print(\"Mean Absolute Error: \", mean_absolute_error(y_train, full_train_pred))\n",
    "print(\"Mean Squared Error: \", mean_squared_error(y_train, full_train_pred))\n",
    "print(\"Median Absolute Error: \", median_absolute_error(y_train, full_train_pred))\n",
    "print(\"R2 Score: \", r2_score(y_train, full_train_pred))\n",
    "print()\n",
    "print()\n",
    "\n",
    "# Score On Train Split\n",
    "# split_train_pred = clf.predict(X_fit)\n",
    "split_train_pred = grid.best_estimator_.predict(X_fit)\n",
    "print(\" -- Scores -- Train Split -- \")\n",
    "print(\"Explained Variance Score: \", explained_variance_score(y_fit, split_train_pred ))\n",
    "print(\"Mean Absolute Error: \", mean_absolute_error(y_fit, split_train_pred))\n",
    "print(\"Mean Squared Error: \", mean_squared_error(y_fit, split_train_pred))\n",
    "print(\"Median Absolute Error: \", median_absolute_error(y_fit, split_train_pred))\n",
    "print(\"R2 Score: \", r2_score(y_fit, split_train_pred))\n",
    "print()\n",
    "print()\n",
    "\n",
    "# Score On Test Split\n",
    "# split_test_pred = clf.predict(X_eval)\n",
    "split_test_pred = grid.best_estimator_.predict(X_eval)\n",
    "print(\" -- Scores -- Test Split -- \")\n",
    "print(\"Explained Variance Score: \", explained_variance_score(y_eval, split_test_pred ))\n",
    "print(\"Mean Absolute Error: \", mean_absolute_error(y_eval, split_test_pred))\n",
    "print(\"Mean Squared Error: \", mean_squared_error(y_eval, split_test_pred))\n",
    "print(\"Median Absolute Error: \", median_absolute_error(y_eval, split_test_pred))\n",
    "print(\"R2 Score: \", r2_score(y_eval, split_test_pred))\n",
    "print()\n",
    "\n"
   ]
  },
  {
   "cell_type": "code",
   "execution_count": 5,
   "metadata": {
    "collapsed": false
   },
   "outputs": [
    {
     "name": "stdout",
     "output_type": "stream",
     "text": [
      "(40000,)\n",
      "Completed!\n"
     ]
    }
   ],
   "source": [
    "# Predict on Test\n",
    "y_pred = grid.best_estimator_.predict(X_test)\n",
    "\n",
    "# Write To File\n",
    "import csv\n",
    "\n",
    "write_file = open('predictions_kval_.3262.csv', 'w')\n",
    "write_file.write('ID,Prediction\\n')\n",
    "for x,y in enumerate(y_pred):\n",
    "    write_file.write('{},{} \\n'.format(x+1, y))\n",
    "    \n",
    "                     \n",
    "write_file.close()\n",
    "\n",
    "print(y_pred.shape)\n",
    "\n",
    "print('Completed!')"
   ]
  },
  {
   "cell_type": "code",
   "execution_count": null,
   "metadata": {
    "collapsed": true
   },
   "outputs": [],
   "source": []
  }
 ],
 "metadata": {
  "kernelspec": {
   "display_name": "Python 2",
   "language": "python",
   "name": "python2"
  },
  "language_info": {
   "codemirror_mode": {
    "name": "ipython",
    "version": 2
   },
   "file_extension": ".py",
   "mimetype": "text/x-python",
   "name": "python",
   "nbconvert_exporter": "python",
   "pygments_lexer": "ipython2",
   "version": "2.7.6"
  }
 },
 "nbformat": 4,
 "nbformat_minor": 0
}
